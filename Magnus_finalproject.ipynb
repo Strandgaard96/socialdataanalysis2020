{
 "cells": [
  {
   "cell_type": "markdown",
   "metadata": {},
   "source": [
    "# Exploratory notebook for final project. "
   ]
  },
  {
   "cell_type": "code",
   "execution_count": 13,
   "metadata": {},
   "outputs": [
    {
     "ename": "ModuleNotFoundError",
     "evalue": "No module named 'folium'",
     "output_type": "error",
     "traceback": [
      "\u001b[1;31m---------------------------------------------------------------------------\u001b[0m",
      "\u001b[1;31mModuleNotFoundError\u001b[0m                       Traceback (most recent call last)",
      "\u001b[1;32m<ipython-input-13-f3cfc4d638f5>\u001b[0m in \u001b[0;36m<module>\u001b[1;34m\u001b[0m\n\u001b[0;32m     15\u001b[0m \u001b[1;32mimport\u001b[0m \u001b[0mitertools\u001b[0m\u001b[1;33m\u001b[0m\u001b[1;33m\u001b[0m\u001b[0m\n\u001b[0;32m     16\u001b[0m \u001b[1;32mfrom\u001b[0m \u001b[0mpprint\u001b[0m \u001b[1;32mimport\u001b[0m \u001b[0mpprint\u001b[0m\u001b[1;33m\u001b[0m\u001b[1;33m\u001b[0m\u001b[0m\n\u001b[1;32m---> 17\u001b[1;33m \u001b[1;32mimport\u001b[0m \u001b[0mfolium\u001b[0m\u001b[1;33m\u001b[0m\u001b[1;33m\u001b[0m\u001b[0m\n\u001b[0m\u001b[0;32m     18\u001b[0m \u001b[1;33m\u001b[0m\u001b[0m\n\u001b[0;32m     19\u001b[0m \u001b[1;31m# bokeh imports\u001b[0m\u001b[1;33m\u001b[0m\u001b[1;33m\u001b[0m\u001b[1;33m\u001b[0m\u001b[0m\n",
      "\u001b[1;31mModuleNotFoundError\u001b[0m: No module named 'folium'"
     ]
    }
   ],
   "source": [
    "# general imports\n",
    "import matplotlib.pyplot as plt\n",
    "import matplotlib.ticker as ticker\n",
    "import pandas as pd\n",
    "import matplotlib.pyplot as plt\n",
    "import numpy as np\n",
    "import seaborn as sns\n",
    "import shapefile as shp\n",
    "import json\n",
    "import requests\n",
    "import datetime\n",
    "import warnings \n",
    "warnings.filterwarnings(\"ignore\")\n",
    "# itertools handles the cycling\n",
    "import itertools \n",
    "from pprint import pprint\n",
    "import folium\n",
    "\n",
    "# bokeh imports\n",
    "from bokeh.plotting import figure, show\n",
    "from bokeh.io import output_notebook\n",
    "from bokeh.models import ColumnDataSource, FactorRange\n",
    "from bokeh.models import Legend\n",
    "from bokeh.core.properties import value\n",
    "from bokeh.transform import factor_cmap\n",
    "# select a palette\n",
    "from bokeh.palettes import Spectral3\n",
    "from bokeh.palettes import Category20b_13 as palette\n",
    "from bokeh.palettes import Category20b_14 as palette2\n",
    "from bokeh.transform import dodge\n",
    "\n",
    "# sklearn imports\n",
    "from sklearn.model_selection import train_test_split\n",
    "from sklearn.metrics import accuracy_score, log_loss\n",
    "from sklearn import tree\n",
    "from sklearn.tree import DecisionTreeClassifier\n",
    "from sklearn.preprocessing import OneHotEncoder\n",
    "from sklearn.model_selection import RandomizedSearchCV\n",
    "from sklearn.ensemble import RandomForestRegressor\n",
    "from sklearn.ensemble import RandomForestClassifier\n",
    "from sklearn.metrics import log_loss\n",
    "from sklearn.metrics import confusion_matrix\n",
    "from sklearn.metrics import roc_auc_score\n",
    "from sklearn.metrics import roc_curve, auc\n",
    "from sklearn import datasets, metrics, model_selection, svm\n",
    "from sklearn.metrics import classification_report\n",
    "\n",
    "sns.set(style='darkgrid', palette='muted', color_codes=True)\n",
    "\n",
    "# Magic command useful jupyter notebook\n",
    "%matplotlib inline\n",
    "\n",
    "#Set plot size.\n",
    "plt.rcParams['figure.figsize'] = [13,7]\n",
    "\n",
    "#Set font size\n",
    "plt.rcParams.update({'font.size':16})"
   ]
  },
  {
   "cell_type": "code",
   "execution_count": 6,
   "metadata": {},
   "outputs": [
    {
     "name": "stdout",
     "output_type": "stream",
     "text": [
      " Volume in drive C is OS\n",
      " Volume Serial Number is CA75-D70B\n",
      "\n",
      " Directory of C:\\Users\\Magnu\\OneDrive - Danmarks Tekniske Universitet\\Kandidat\\4Semester\\social\\Socialdata_project\n",
      "\n",
      "03/31/2020  11:17 AM    <DIR>          .\n",
      "03/31/2020  11:17 AM    <DIR>          ..\n",
      "03/30/2020  06:55 PM    <DIR>          .git\n",
      "03/31/2020  11:11 AM               201 .gitignore\n",
      "03/31/2020  11:12 AM    <DIR>          .ipynb_checkpoints\n",
      "03/29/2020  11:00 AM         3,230,809 Assignment1.ipynb\n",
      "03/30/2020  06:55 PM         2,802,844 Assignment2_true.ipynb\n",
      "03/31/2020  11:16 AM        93,200,443 DOHMH_New_York_City_Restaurant_Inspection_Results.csv\n",
      "03/12/2020  01:50 PM            91,440 download.png\n",
      "03/30/2020  06:30 PM            57,760 evaluate_total.PNG\n",
      "03/31/2020  11:15 AM               653 FinalProject.ipynb\n",
      "11/20/2019  12:03 PM        16,140,812 listings_sample.csv\n",
      "03/31/2020  11:15 AM            11,645 Magnus_finalproject.ipynb\n",
      "02/04/2020  11:35 AM       463,094,961 Police_Department_Incident_Reports__Historical_2003_to_May_2018.csv\n",
      "02/20/2020  12:06 PM                26 README.md\n",
      "11/20/2019  12:06 PM         2,019,521 reviews_sample.csv\n",
      "03/16/2020  02:56 PM         3,379,529 weather_data.csv\n",
      "03/31/2020  11:07 AM     3,056,873,154 yellow_tripdata_2015-01-06.csv.gz\n",
      "              14 File(s)  3,640,903,798 bytes\n",
      "               4 Dir(s)  183,244,259,328 bytes free\n"
     ]
    }
   ],
   "source": [
    "%ls"
   ]
  },
  {
   "cell_type": "code",
   "execution_count": 2,
   "metadata": {},
   "outputs": [],
   "source": [
    "df = pd.read_csv('DOHMH_New_York_City_Restaurant_Inspection_Results.csv')"
   ]
  },
  {
   "cell_type": "code",
   "execution_count": 3,
   "metadata": {},
   "outputs": [
    {
     "data": {
      "text/plain": [
       "Index(['CAMIS', 'DBA', 'BORO', 'BUILDING', 'STREET', 'ZIPCODE', 'PHONE',\n",
       "       'CUISINE DESCRIPTION', 'INSPECTION DATE', 'ACTION', 'VIOLATION CODE',\n",
       "       'VIOLATION DESCRIPTION', 'CRITICAL FLAG', 'SCORE', 'GRADE',\n",
       "       'GRADE DATE', 'RECORD DATE', 'INSPECTION TYPE', 'Latitude', 'Longitude',\n",
       "       'Community Board', 'Council District', 'Census Tract', 'BIN', 'BBL',\n",
       "       'NTA'],\n",
       "      dtype='object')"
      ]
     },
     "execution_count": 3,
     "metadata": {},
     "output_type": "execute_result"
    }
   ],
   "source": [
    "df.columns"
   ]
  },
  {
   "cell_type": "code",
   "execution_count": 4,
   "metadata": {},
   "outputs": [
    {
     "data": {
      "text/plain": [
       "CAMIS                    402052\n",
       "DBA                      401681\n",
       "BORO                     402052\n",
       "BUILDING                 401788\n",
       "STREET                   402050\n",
       "ZIPCODE                  396568\n",
       "PHONE                    402035\n",
       "CUISINE DESCRIPTION      402052\n",
       "INSPECTION DATE          402052\n",
       "ACTION                   400764\n",
       "VIOLATION CODE           396492\n",
       "VIOLATION DESCRIPTION    393097\n",
       "CRITICAL FLAG            393097\n",
       "SCORE                    385289\n",
       "GRADE                    203739\n",
       "GRADE DATE               201077\n",
       "RECORD DATE              402052\n",
       "INSPECTION TYPE          400764\n",
       "Latitude                 401630\n",
       "Longitude                401630\n",
       "Community Board          396148\n",
       "Council District         396160\n",
       "Census Tract             396160\n",
       "BIN                      394401\n",
       "BBL                      401630\n",
       "NTA                      396148\n",
       "dtype: int64"
      ]
     },
     "execution_count": 4,
     "metadata": {},
     "output_type": "execute_result"
    }
   ],
   "source": [
    "df.count()"
   ]
  },
  {
   "cell_type": "code",
   "execution_count": 5,
   "metadata": {},
   "outputs": [
    {
     "data": {
      "text/plain": [
       "CAMIS                         0\n",
       "DBA                         371\n",
       "BORO                          0\n",
       "BUILDING                    264\n",
       "STREET                        2\n",
       "ZIPCODE                    5484\n",
       "PHONE                        17\n",
       "CUISINE DESCRIPTION           0\n",
       "INSPECTION DATE               0\n",
       "ACTION                     1288\n",
       "VIOLATION CODE             5560\n",
       "VIOLATION DESCRIPTION      8955\n",
       "CRITICAL FLAG              8955\n",
       "SCORE                     16763\n",
       "GRADE                    198313\n",
       "GRADE DATE               200975\n",
       "RECORD DATE                   0\n",
       "INSPECTION TYPE            1288\n",
       "Latitude                    422\n",
       "Longitude                   422\n",
       "Community Board            5904\n",
       "Council District           5892\n",
       "Census Tract               5892\n",
       "BIN                        7651\n",
       "BBL                         422\n",
       "NTA                        5904\n",
       "dtype: int64"
      ]
     },
     "execution_count": 5,
     "metadata": {},
     "output_type": "execute_result"
    }
   ],
   "source": [
    "df.isnull().sum()"
   ]
  },
  {
   "cell_type": "code",
   "execution_count": 11,
   "metadata": {},
   "outputs": [],
   "source": [
    "df = df[['CAMIS', 'CUISINE DESCRIPTION', 'STREET', 'SCORE', 'Latitude','Longitude']].dropna()"
   ]
  },
  {
   "cell_type": "code",
   "execution_count": 12,
   "metadata": {},
   "outputs": [
    {
     "data": {
      "text/html": [
       "<div>\n",
       "<style scoped>\n",
       "    .dataframe tbody tr th:only-of-type {\n",
       "        vertical-align: middle;\n",
       "    }\n",
       "\n",
       "    .dataframe tbody tr th {\n",
       "        vertical-align: top;\n",
       "    }\n",
       "\n",
       "    .dataframe thead th {\n",
       "        text-align: right;\n",
       "    }\n",
       "</style>\n",
       "<table border=\"1\" class=\"dataframe\">\n",
       "  <thead>\n",
       "    <tr style=\"text-align: right;\">\n",
       "      <th></th>\n",
       "      <th>CAMIS</th>\n",
       "      <th>CUISINE DESCRIPTION</th>\n",
       "      <th>STREET</th>\n",
       "      <th>SCORE</th>\n",
       "      <th>Latitude</th>\n",
       "      <th>Longitude</th>\n",
       "    </tr>\n",
       "  </thead>\n",
       "  <tbody>\n",
       "    <tr>\n",
       "      <th>0</th>\n",
       "      <td>40549885</td>\n",
       "      <td>Mexican</td>\n",
       "      <td>WEST KINGSBRIDGE ROAD</td>\n",
       "      <td>13.0</td>\n",
       "      <td>40.868621</td>\n",
       "      <td>-73.902168</td>\n",
       "    </tr>\n",
       "    <tr>\n",
       "      <th>1</th>\n",
       "      <td>40594703</td>\n",
       "      <td>Japanese</td>\n",
       "      <td>EAST   45 STREET</td>\n",
       "      <td>19.0</td>\n",
       "      <td>40.753164</td>\n",
       "      <td>-73.974161</td>\n",
       "    </tr>\n",
       "    <tr>\n",
       "      <th>2</th>\n",
       "      <td>41644384</td>\n",
       "      <td>Japanese</td>\n",
       "      <td>18 AVENUE</td>\n",
       "      <td>75.0</td>\n",
       "      <td>40.614953</td>\n",
       "      <td>-73.994406</td>\n",
       "    </tr>\n",
       "    <tr>\n",
       "      <th>3</th>\n",
       "      <td>41529391</td>\n",
       "      <td>Chinese</td>\n",
       "      <td>AVENUE T</td>\n",
       "      <td>12.0</td>\n",
       "      <td>40.615279</td>\n",
       "      <td>-73.918465</td>\n",
       "    </tr>\n",
       "    <tr>\n",
       "      <th>4</th>\n",
       "      <td>50073113</td>\n",
       "      <td>American</td>\n",
       "      <td>WOODHAVEN BLVD</td>\n",
       "      <td>11.0</td>\n",
       "      <td>40.708623</td>\n",
       "      <td>-73.859395</td>\n",
       "    </tr>\n",
       "  </tbody>\n",
       "</table>\n",
       "</div>"
      ],
      "text/plain": [
       "      CAMIS CUISINE DESCRIPTION                 STREET  SCORE   Latitude  \\\n",
       "0  40549885             Mexican  WEST KINGSBRIDGE ROAD   13.0  40.868621   \n",
       "1  40594703            Japanese       EAST   45 STREET   19.0  40.753164   \n",
       "2  41644384            Japanese              18 AVENUE   75.0  40.614953   \n",
       "3  41529391             Chinese               AVENUE T   12.0  40.615279   \n",
       "4  50073113            American         WOODHAVEN BLVD   11.0  40.708623   \n",
       "\n",
       "   Longitude  \n",
       "0 -73.902168  \n",
       "1 -73.974161  \n",
       "2 -73.994406  \n",
       "3 -73.918465  \n",
       "4 -73.859395  "
      ]
     },
     "execution_count": 12,
     "metadata": {},
     "output_type": "execute_result"
    }
   ],
   "source": [
    "df.head()"
   ]
  },
  {
   "cell_type": "code",
   "execution_count": 17,
   "metadata": {},
   "outputs": [
    {
     "data": {
      "text/plain": [
       "25982"
      ]
     },
     "execution_count": 17,
     "metadata": {},
     "output_type": "execute_result"
    }
   ],
   "source": [
    "len(df.CAMIS.unique())"
   ]
  },
  {
   "cell_type": "code",
   "execution_count": null,
   "metadata": {},
   "outputs": [],
   "source": []
  }
 ],
 "metadata": {
  "kernelspec": {
   "display_name": "Python 3",
   "language": "python",
   "name": "python3"
  },
  "language_info": {
   "codemirror_mode": {
    "name": "ipython",
    "version": 3
   },
   "file_extension": ".py",
   "mimetype": "text/x-python",
   "name": "python",
   "nbconvert_exporter": "python",
   "pygments_lexer": "ipython3",
   "version": "3.7.4"
  }
 },
 "nbformat": 4,
 "nbformat_minor": 4
}
