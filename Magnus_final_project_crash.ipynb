{
 "cells": [
  {
   "cell_type": "code",
   "execution_count": 1,
   "metadata": {},
   "outputs": [],
   "source": [
    "# general imports\n",
    "import matplotlib.pyplot as plt\n",
    "import matplotlib.ticker as ticker\n",
    "import pandas as pd\n",
    "import matplotlib.pyplot as plt\n",
    "import numpy as np\n",
    "import seaborn as sns\n",
    "import shapefile as shp\n",
    "import json\n",
    "import requests\n",
    "import datetime\n",
    "import warnings \n",
    "warnings.filterwarnings(\"ignore\")\n",
    "# itertools handles the cycling\n",
    "import itertools \n",
    "from pprint import pprint\n",
    "\n",
    "# bokeh imports\n",
    "from bokeh.plotting import figure, show\n",
    "from bokeh.io import output_notebook\n",
    "from bokeh.models import ColumnDataSource, FactorRange,GMapOptions,Dropdown,CDSView, BooleanFilter\n",
    "from bokeh.models import Legend, HoverTool\n",
    "\n",
    "from bokeh.core.properties import value\n",
    "from bokeh.transform import factor_cmap\n",
    "# select a palette\n",
    "from bokeh.palettes import Spectral3\n",
    "from bokeh.palettes import Category20b_13 as palette\n",
    "from bokeh.palettes import Category20b_14 as palette2\n",
    "from bokeh.transform import dodge\n",
    "from bokeh.io import reset_output, show\n",
    "from bokeh.plotting import gmap\n",
    "\n",
    "# sklearn imports\n",
    "from sklearn.model_selection import train_test_split\n",
    "from sklearn.metrics import accuracy_score, log_loss\n",
    "from sklearn import tree\n",
    "from sklearn.tree import DecisionTreeClassifier\n",
    "from sklearn.preprocessing import OneHotEncoder\n",
    "from sklearn.model_selection import RandomizedSearchCV\n",
    "from sklearn.ensemble import RandomForestRegressor\n",
    "from sklearn.ensemble import RandomForestClassifier\n",
    "from sklearn.metrics import log_loss\n",
    "from sklearn.metrics import confusion_matrix\n",
    "from sklearn.metrics import roc_auc_score\n",
    "from sklearn.metrics import roc_curve, auc\n",
    "from sklearn import datasets, metrics, model_selection, svm\n",
    "from sklearn.metrics import classification_report\n",
    "\n",
    "sns.set(style='darkgrid', palette='muted', color_codes=True)\n",
    "\n",
    "# Magic command useful jupyter notebook\n",
    "%matplotlib inline\n",
    "\n",
    "#Set plot size.\n",
    "plt.rcParams['figure.figsize'] = [13,7]\n",
    "\n",
    "#Set font size\n",
    "plt.rcParams.update({'font.size':16})"
   ]
  },
  {
   "cell_type": "markdown",
   "metadata": {},
   "source": [
    "## Pre processing"
   ]
  },
  {
   "cell_type": "code",
   "execution_count": 2,
   "metadata": {},
   "outputs": [],
   "source": [
    "df_crash = pd.read_csv('data/Motor_Vehicle_Collisions_-_Crashes.csv')\n",
    "df_vehicle = pd.read_csv('data/Motor_Vehicle_Collisions_-_Vehicles.csv')\n",
    "df_people = pd.read_csv('data/Motor_Vehicle_Collisions_-_Person.csv')"
   ]
  },
  {
   "cell_type": "code",
   "execution_count": 5,
   "metadata": {},
   "outputs": [],
   "source": [
    "df_crash['CRASH DATE'] = pd.to_datetime(df_crash['CRASH DATE'])\n",
    "df_crash['CRASH TIME'] = pd.to_datetime(df_crash['CRASH TIME']) "
   ]
  },
  {
   "cell_type": "markdown",
   "metadata": {},
   "source": [
    "### Heatmap plots "
   ]
  },
  {
   "cell_type": "code",
   "execution_count": 6,
   "metadata": {},
   "outputs": [
    {
     "data": {
      "text/plain": [
       "CRASH DATE                       datetime64[ns]\n",
       "CRASH TIME                       datetime64[ns]\n",
       "BOROUGH                                  object\n",
       "ZIP CODE                                 object\n",
       "LATITUDE                                float64\n",
       "LONGITUDE                               float64\n",
       "LOCATION                                 object\n",
       "ON STREET NAME                           object\n",
       "CROSS STREET NAME                        object\n",
       "OFF STREET NAME                          object\n",
       "NUMBER OF PERSONS INJURED               float64\n",
       "NUMBER OF PERSONS KILLED                float64\n",
       "NUMBER OF PEDESTRIANS INJURED             int64\n",
       "NUMBER OF PEDESTRIANS KILLED              int64\n",
       "NUMBER OF CYCLIST INJURED                 int64\n",
       "NUMBER OF CYCLIST KILLED                  int64\n",
       "NUMBER OF MOTORIST INJURED                int64\n",
       "NUMBER OF MOTORIST KILLED                 int64\n",
       "CONTRIBUTING FACTOR VEHICLE 1            object\n",
       "CONTRIBUTING FACTOR VEHICLE 2            object\n",
       "CONTRIBUTING FACTOR VEHICLE 3            object\n",
       "CONTRIBUTING FACTOR VEHICLE 4            object\n",
       "CONTRIBUTING FACTOR VEHICLE 5            object\n",
       "COLLISION_ID                              int64\n",
       "VEHICLE TYPE CODE 1                      object\n",
       "VEHICLE TYPE CODE 2                      object\n",
       "VEHICLE TYPE CODE 3                      object\n",
       "VEHICLE TYPE CODE 4                      object\n",
       "VEHICLE TYPE CODE 5                      object\n",
       "dtype: object"
      ]
     },
     "execution_count": 6,
     "metadata": {},
     "output_type": "execute_result"
    }
   ],
   "source": [
    "df_crash.dtypes"
   ]
  },
  {
   "cell_type": "code",
   "execution_count": 7,
   "metadata": {},
   "outputs": [
    {
     "data": {
      "text/html": [
       "<script>\n",
       "code_show=true; \n",
       "function code_toggle() {\n",
       " if (code_show){\n",
       " $('div.input').hide();\n",
       " } else {\n",
       " $('div.input').show();\n",
       " }\n",
       " code_show = !code_show\n",
       "} \n",
       "$( document ).ready(code_toggle);\n",
       "</script>\n",
       "<form action=\"javascript:code_toggle()\"><input type=\"submit\" value=\"Click here to toggle on/off the raw code.\"></form>"
      ],
      "text/plain": [
       "<IPython.core.display.HTML object>"
      ]
     },
     "execution_count": 7,
     "metadata": {},
     "output_type": "execute_result"
    }
   ],
   "source": [
    "from IPython.display import HTML\n",
    "\n",
    "HTML('''<script>\n",
    "code_show=true; \n",
    "function code_toggle() {\n",
    " if (code_show){\n",
    " $('div.input').hide();\n",
    " } else {\n",
    " $('div.input').show();\n",
    " }\n",
    " code_show = !code_show\n",
    "} \n",
    "$( document ).ready(code_toggle);\n",
    "</script>\n",
    "<form action=\"javascript:code_toggle()\"><input type=\"submit\" value=\"Click here to toggle on/off the raw code.\"></form>''')"
   ]
  },
  {
   "cell_type": "code",
   "execution_count": null,
   "metadata": {},
   "outputs": [],
   "source": []
  }
 ],
 "metadata": {
  "kernelspec": {
   "display_name": "Python 3",
   "language": "python",
   "name": "python3"
  },
  "language_info": {
   "codemirror_mode": {
    "name": "ipython",
    "version": 3
   },
   "file_extension": ".py",
   "mimetype": "text/x-python",
   "name": "python",
   "nbconvert_exporter": "python",
   "pygments_lexer": "ipython3",
   "version": "3.7.4"
  }
 },
 "nbformat": 4,
 "nbformat_minor": 4
}
